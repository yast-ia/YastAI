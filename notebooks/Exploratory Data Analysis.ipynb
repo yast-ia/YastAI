{
 "cells": [
  {
   "cell_type": "markdown",
   "metadata": {},
   "source": [
    "<h1 align=\"center\"><a href=\"https://github.com/yast-ia/YastAI\"> YastAI</a> - Yet Another Session for Training Artificial Intelligence</h1>\n",
    "<center>\n",
    "    \n",
    "<img src=\"\" width=\"60%\"></img>\n",
    "<h2 align=\"center\">Exploratory Data Analysis</h2>\n",
    "</center>\n",
    "\n",
    "<center>\n",
    "<i> Notebook created by Sebastián Bórquez G. - <a href=\"mailto://sebstian.borquez.g@gmail.com\">sebastian.borquez.g@gmail.com</a> - YastAI - August 2020.</i>\n",
    "</center>\n"
   ]
  },
  {
   "cell_type": "code",
   "execution_count": null,
   "metadata": {},
   "outputs": [],
   "source": []
  }
 ],
 "metadata": {
  "kernelspec": {
   "display_name": "Python 3",
   "language": "python",
   "name": "python3"
  },
  "language_info": {
   "codemirror_mode": {
    "name": "ipython",
    "version": 3
   },
   "file_extension": ".py",
   "mimetype": "text/x-python",
   "name": "python",
   "nbconvert_exporter": "python",
   "pygments_lexer": "ipython3",
   "version": "3.7.7"
  }
 },
 "nbformat": 4,
 "nbformat_minor": 4
}
